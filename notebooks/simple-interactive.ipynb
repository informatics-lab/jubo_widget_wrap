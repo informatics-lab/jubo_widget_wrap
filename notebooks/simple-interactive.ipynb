{
 "cells": [
  {
   "cell_type": "code",
   "execution_count": 9,
   "metadata": {},
   "outputs": [
    {
     "data": {
      "text/plain": [
       "'Fri 17 Aug 18'"
      ]
     },
     "metadata": {},
     "output_type": "display_data"
    },
    {
     "data": {
      "text/plain": [
       "<function __main__.date_in_days_time(num_days)>"
      ]
     },
     "execution_count": 9,
     "metadata": {},
     "output_type": "execute_result"
    }
   ],
   "source": [
    "\n",
    "from jubo import interact\n",
    "from jubo import widgets\n",
    "import datetime\n",
    "\n",
    "def date_in_days_time(num_days):\n",
    "    dt = datetime.datetime.now() + datetime.timedelta(days=num_days)\n",
    "    return dt.strftime(\"%a %d %b %y\")\n",
    "                       \n",
    "\n",
    "interact(date_in_days_time,\n",
    "         num_days=widgets.IntSlider(description=\"Date in x days\", min=-10,max=30,step=1,value=10))\n"
   ]
  },
  {
   "cell_type": "code",
   "execution_count": null,
   "metadata": {},
   "outputs": [],
   "source": []
  }
 ],
 "metadata": {
  "kernelspec": {
   "display_name": "Python 3",
   "language": "python",
   "name": "python3"
  },
  "language_info": {
   "codemirror_mode": {
    "name": "ipython",
    "version": 3
   },
   "file_extension": ".py",
   "mimetype": "text/x-python",
   "name": "python",
   "nbconvert_exporter": "python",
   "pygments_lexer": "ipython3",
   "version": "3.6.6"
  }
 },
 "nbformat": 4,
 "nbformat_minor": 2
}
