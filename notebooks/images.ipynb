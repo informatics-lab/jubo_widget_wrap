{
 "cells": [
  {
   "cell_type": "code",
   "execution_count": 1,
   "metadata": {},
   "outputs": [
    {
     "data": {
      "text/html": [
       "<img src=\"https://is4-ssl.mzstatic.com/image/thumb/Music127/v4/5e/48/a9/5e48a90c-7607-0ae0-5050-5d45f3c4613a/701649130744.png/268x0w.jpg\"/>"
      ],
      "text/plain": [
       "<IPython.core.display.Image object>"
      ]
     },
     "metadata": {},
     "output_type": "display_data"
    },
    {
     "data": {
      "text/plain": [
       "<function __main__.show_img(index)>"
      ]
     },
     "execution_count": 1,
     "metadata": {},
     "output_type": "execute_result"
    }
   ],
   "source": [
    "from jubo import interact\n",
    "from jubo import widgets\n",
    "from IPython.display import Image, display\n",
    "\n",
    "def show_img(index):\n",
    "    imgs = {\n",
    "        \"yeah\": \"https://is4-ssl.mzstatic.com/image/thumb/Music127/v4/5e/48/a9/5e48a90c-7607-0ae0-5050-5d45f3c4613a/701649130744.png/268x0w.jpg\",\n",
    "        \"great\": \"https://img00.deviantart.net/5107/i/2011/362/9/e/aww_yeah_by_sarah_tang-d4kj13w.png\",\n",
    "        \"super\": \"https://imgc.allpostersimages.com/img/print/posters/booyah-comic-pop_a-G-10391412-0.jpg\"\n",
    "    }\n",
    "    display(Image(url=imgs[index]))\n",
    "\n",
    "interact(show_img, index=widgets.Dropdown(value=\"yeah\", options=[\"yeah\", \"great\", \"super\"]))\n"
   ]
  },
  {
   "cell_type": "code",
   "execution_count": null,
   "metadata": {},
   "outputs": [],
   "source": []
  }
 ],
 "metadata": {
  "kernelspec": {
   "display_name": "Python 3",
   "language": "python",
   "name": "python3"
  },
  "language_info": {
   "codemirror_mode": {
    "name": "ipython",
    "version": 3
   },
   "file_extension": ".py",
   "mimetype": "text/x-python",
   "name": "python",
   "nbconvert_exporter": "python",
   "pygments_lexer": "ipython3",
   "version": "3.6.6"
  }
 },
 "nbformat": 4,
 "nbformat_minor": 2
}
